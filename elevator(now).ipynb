{
 "cells": [
  {
   "cell_type": "code",
   "execution_count": 9,
   "metadata": {},
   "outputs": [
    {
     "name": "stdout",
     "output_type": "stream",
     "text": [
      "192\n",
      "210\n"
     ]
    }
   ],
   "source": [
    "from pylab import *\n",
    "from numpy import *\n",
    "#왼쪽과 오른쪽 파일을 전부 불러옴\n",
    "for j in range(2):\n",
    "    n=str(j)\n",
    "    D_j=loadtxt('elv'+n+'.txt')\n",
    "    F_j=D_j[:,0]\n",
    "    #각 엘리베이터가 올라가고 내려갈때 타고 내리는 사람 수\n",
    "    upin_j=D_j[:,1]\n",
    "    upout_j=D_j[:,2]\n",
    "    dwin_j=D_j[:,3]\n",
    "    dwout_j=D_j[:,4]\n",
    "    #올라갈때 1층에서 내리는 사람과 내려올때 1층에서 타는 사람을 뺌\n",
    "    upout_j[0]=0\n",
    "    dwin_j[0]=0\n",
    "    l_j=len(F_j)\n",
    "    upinst_j=zeros((10,1))\n",
    "    upoutst_j=zeros((10,1))\n",
    "    dwinst_j=zeros((10,1))\n",
    "    dwoutst_j=zeros((10,1))\n",
    "    #타려는 사람이 있다면 inst=1 내리려는 사람이 있다면 outst=1\n",
    "    for i in range(l_j):\n",
    "        if upin_j[i]>=1:\n",
    "            upinst_j[i]=1\n",
    "        if upout_j[i]>=1:\n",
    "            upoutst_j[i]=1\n",
    "        if dwin_j[i]>=1:\n",
    "            dwinst_j[i]=1\n",
    "        if dwout_j[i]>=1:\n",
    "            dwoutst_j[i]=1\n",
    "    upst_j=zeros((10,1))\n",
    "    dwst_j=zeros((10,1))\n",
    "    #타거나 내리려는 사람이 있다면 open\n",
    "    for i in range(l_j):\n",
    "        if upinst_j[i]+upoutst_j[i]>0:\n",
    "            upst_j[i]=1\n",
    "        if dwinst_j[i]+dwoutst_j[i]>0:\n",
    "            dwst_j[i]=1\n",
    "    #1층을 올라가는데 걸리는 시간은 8초, 1층 추가될때마다 2초씩 더 걸림\n",
    "    upf_j=[]\n",
    "    dwf_j=[]\n",
    "    for i in range(10):\n",
    "        if upst_j[i]==1:\n",
    "            upf_j.append(i+1)\n",
    "        if dwst_j[i]==1:\n",
    "            dwf_j.append(i+1)\n",
    "    upl_j=len(upf_j)\n",
    "    dwl_j=len(dwf_j)\n",
    "    upt_j=0\n",
    "    dwt_j=0\n",
    "    #open인층에서 다음 open인 층까지의 시간 계산\n",
    "    for i in range(upl_j-1):\n",
    "        upt_j=upt_j+(upf_j[i+1]-upf_j[i]-1)*2+8\n",
    "    for i in range(dwl_j-1):\n",
    "        dwt_j=dwt_j+(dwf_j[i+1]-dwf_j[i]-1)*2+8\n",
    "    #10층이 두번 들어가므로 한 번을 빼줌\n",
    "    dwst_j[9]=0\n",
    "    upop_j=0\n",
    "    dwop_j=0\n",
    "    #open이면 12초를 더함\n",
    "    upop_j=upl_j*12\n",
    "    #내려올때 맨윗층은 올라갈때 맨윗층과 겹치므로 한개는 빼줌\n",
    "    dwop_j=(dwl_j-1)*12\n",
    "    time_j=upop_j+dwop_j+upt_j+dwt_j\n",
    "    print(time_j)"
   ]
  },
  {
   "cell_type": "code",
   "execution_count": 36,
   "metadata": {},
   "outputs": [
    {
     "data": {
      "text/plain": [
       "6"
      ]
     },
     "execution_count": 36,
     "metadata": {},
     "output_type": "execute_result"
    }
   ],
   "source": []
  },
  {
   "cell_type": "code",
   "execution_count": null,
   "metadata": {
    "collapsed": true
   },
   "outputs": [],
   "source": []
  }
 ],
 "metadata": {
  "kernelspec": {
   "display_name": "Python 3",
   "language": "python",
   "name": "python3"
  },
  "language_info": {
   "codemirror_mode": {
    "name": "ipython",
    "version": 3
   },
   "file_extension": ".py",
   "mimetype": "text/x-python",
   "name": "python",
   "nbconvert_exporter": "python",
   "pygments_lexer": "ipython3",
   "version": "3.7.3"
  }
 },
 "nbformat": 4,
 "nbformat_minor": 1
}
