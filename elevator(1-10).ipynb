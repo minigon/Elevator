{
 "cells": [
  {
   "cell_type": "code",
   "execution_count": 55,
   "metadata": {},
   "outputs": [],
   "source": [
    "from pylab import *\n",
    "from numpy import *\n",
    "#1-10층 엘리베이터는 금방 끝나기 때문에 1-9 엘리베이터 시간만 계산\n",
    "D=loadtxt('elv.txt')\n",
    "F=D[:,0]\n",
    "#1~9층 엘리베이터를 타는 사람수\n",
    "up19in=D[:9,1]\n",
    "up19out=D[:9,2]\n",
    "dw19in=D[:9,3]\n",
    "dw19out=D[:9,4]\n",
    "#올라갈때 1층에서 내리는 사람과 내려올때 1층에서 타는 사람을 뺌\n",
    "up19out[0]=0\n",
    "dw19in[0]=0\n",
    "#1층에서 타는 사람 중 10층으로 가는 사람을 뺌\n",
    "up19in[0]=up19in[0]-D[9,2]\n",
    "#1층에서 내리는 사람 중 10층에서 오는 사람을 뺌\n",
    "dw19out[0]=dw19out[0]-D[9,1]\n",
    "up19inst=zeros((9,1))\n",
    "up19outst=zeros((9,1))\n",
    "dw19inst=zeros((9,1))\n",
    "dw19outst=zeros((9,1))\n",
    "#타려는 사람이나 내리려는 사람이 있으면 1 아니면 0\n",
    "for i in range(9):\n",
    "    if up19in[i]>=1:\n",
    "        up19inst[i]=1\n",
    "    if up19out[i]>=1:\n",
    "        up19outst[i]=1\n",
    "    if dw19in[i]>=1:\n",
    "        dw19inst[i]=1\n",
    "    if dw19out[i]>=1:\n",
    "        dw19outst[i]=1"
   ]
  },
  {
   "cell_type": "code",
   "execution_count": 56,
   "metadata": {},
   "outputs": [],
   "source": [
    "up19st=zeros((9,1))\n",
    "dw19st=zeros((9,1))\n",
    "for i in range(9):\n",
    "    #타거나 내리려는 사람이 있고, 엘베 안이 19명 이하라면 오픈\n",
    "    if up19inst[i]+up19outst[i]>0 and sum(up19in[:(i+1)])-sum(up19out[:(i+1)])<=19:\n",
    "        up19st[i]=1\n",
    "    if dw19inst[i]+dw19outst[i]>0 and sum(dw19in[(i+1):])-sum(dw19out[(i+1):])<=19:\n",
    "        dw19st[i]=1"
   ]
  },
  {
   "cell_type": "code",
   "execution_count": 57,
   "metadata": {},
   "outputs": [],
   "source": [
    "k=0\n",
    "l=0\n",
    "#엘베 정원이 초과라서 못 탄 사람들\n",
    "for i in range(9):\n",
    "    k=k+up19in[i]-up19out[i]\n",
    "    l=l+dw19in[8-i]-dw19out[8-i]\n",
    "    up19in[i]=0\n",
    "    dw19in[8-i]=0\n",
    "    if k>19:\n",
    "        while k>19:\n",
    "            k=k-1\n",
    "            up19in[i]=up19in[i]+1\n",
    "    if l>19:\n",
    "        while l>19:\n",
    "            l=l-1\n",
    "            dw19in[8-i]=dw19in[8-i]+1\n",
    "\n",
    "up19out=zeros((9,1))\n",
    "dw19out=zeros((9,1))"
   ]
  },
  {
   "cell_type": "code",
   "execution_count": 58,
   "metadata": {},
   "outputs": [
    {
     "name": "stdout",
     "output_type": "stream",
     "text": [
      "[0. 0. 0. 0. 0. 0. 0. 0. 0.]\n",
      "[0. 0. 0. 0. 0. 0. 0. 0. 0.]\n"
     ]
    }
   ],
   "source": [
    "#못 탄 사람들\n",
    "print(transpose(up19in))\n",
    "print(transpose(dw19in))"
   ]
  },
  {
   "cell_type": "code",
   "execution_count": 59,
   "metadata": {},
   "outputs": [
    {
     "name": "stdout",
     "output_type": "stream",
     "text": [
      "260\n"
     ]
    }
   ],
   "source": [
    "upf=[]\n",
    "dwf=[]\n",
    "for i in range(9):\n",
    "    if up19st[i]==1:\n",
    "        upf.append(i+1)\n",
    "    if dw19st[i]==1:\n",
    "        dwf.append(i+1)\n",
    "upl=len(upf)\n",
    "dwl=len(dwf)\n",
    "upt=0\n",
    "dwt=0\n",
    "for i in range(upl-1):\n",
    "    upt=upt+(upf[i+1]-upf[i]-1)*2+8\n",
    "for i in range(dwl-1):\n",
    "    dwt=dwt+(dwf[i+1]-dwf[i]-1)*2+8\n",
    "upop=0\n",
    "dwop=0\n",
    "upop=upl*12\n",
    "dwop=(dwl-1)*12\n",
    "time=upop+dwop+upt+dwt\n",
    "print(time)"
   ]
  },
  {
   "cell_type": "code",
   "execution_count": 60,
   "metadata": {},
   "outputs": [],
   "source": [
    "#못 탄 사람이 있다면 올라가는 사람은 9층을 가려하고 내려오는 사람은 1층으로 온다고 가정\n",
    "#1-9 elv방법의 최대 걸리는 시간\n",
    "for i in range(9):\n",
    "    if up19in[i]>0:\n",
    "        up19out[8]=up19out[8]+up19in[i]\n",
    "    if dw19in[i]>0:\n",
    "        dw19out[0]=dw19out[0]+dw19in[i]"
   ]
  },
  {
   "cell_type": "code",
   "execution_count": 61,
   "metadata": {},
   "outputs": [],
   "source": [
    "if sum(up19in[0:]+dw19in[0:])>0:\n",
    "    up19inst=zeros((9,1))\n",
    "    up19outst=zeros((9,1))\n",
    "    dw19inst=zeros((9,1))\n",
    "    dw19outst=zeros((9,1))\n",
    "    for i in range(9):\n",
    "        if up19in[i]>=1:\n",
    "            up19inst[i]=1\n",
    "        if up19out[i]>=1:\n",
    "            up19outst[i]=1\n",
    "        if dw19in[i]>=1:\n",
    "            dw19inst[i]=1\n",
    "        if dw19out[i]>=1:\n",
    "            dw19outst[i]=1\n",
    "    up19st=zeros((9,1))\n",
    "    dw19st=zeros((9,1))\n",
    "    for i in range(9):\n",
    "        if up19inst[i]+up19outst[i]>0:\n",
    "            up19st[i]=1\n",
    "        if dw19inst[i]+dw19outst[i]>0:\n",
    "            dw19st[i]=1\n",
    "    upf=[]\n",
    "    dwf=[]\n",
    "    for i in range(9):\n",
    "        if up19st[i]==1:\n",
    "            upf.append(i+1)\n",
    "        if dw19st[i]==1:\n",
    "            dwf.append(i+1)\n",
    "    upl=len(upf)\n",
    "    dwl=len(dwf)\n",
    "    upt=0\n",
    "    dwt=0\n",
    "    for i in range(upl-1):\n",
    "        upt=upt+(upf[i+1]-upf[i]-1)*2+8\n",
    "    for i in range(dwl-1):\n",
    "        dwt=dwt+(dwf[i+1]-dwf[i]-1)*2+8\n",
    "    upop=0\n",
    "    dwop=0\n",
    "    upop=upl*12\n",
    "    dwop=(dwl-1)*12\n",
    "    time1=upop+dwop+upt+dwt"
   ]
  },
  {
   "cell_type": "code",
   "execution_count": 62,
   "metadata": {},
   "outputs": [
    {
     "ename": "NameError",
     "evalue": "name 'time1' is not defined",
     "output_type": "error",
     "traceback": [
      "\u001b[1;31m---------------------------------------------------------------------------\u001b[0m",
      "\u001b[1;31mNameError\u001b[0m                                 Traceback (most recent call last)",
      "\u001b[1;32m<ipython-input-62-765a4bbc7a7f>\u001b[0m in \u001b[0;36m<module>\u001b[1;34m\u001b[0m\n\u001b[1;32m----> 1\u001b[1;33m \u001b[0mprint\u001b[0m\u001b[1;33m(\u001b[0m\u001b[0mtime\u001b[0m\u001b[1;33m,\u001b[0m\u001b[0mtime\u001b[0m\u001b[1;33m+\u001b[0m\u001b[0mtime1\u001b[0m\u001b[1;33m)\u001b[0m\u001b[1;33m\u001b[0m\u001b[1;33m\u001b[0m\u001b[0m\n\u001b[0m",
      "\u001b[1;31mNameError\u001b[0m: name 'time1' is not defined"
     ]
    }
   ],
   "source": [
    "print(time,time+time1)"
   ]
  },
  {
   "cell_type": "code",
   "execution_count": 63,
   "metadata": {},
   "outputs": [
    {
     "name": "stdout",
     "output_type": "stream",
     "text": [
      "260\n"
     ]
    }
   ],
   "source": [
    "print(time)"
   ]
  },
  {
   "cell_type": "code",
   "execution_count": 64,
   "metadata": {},
   "outputs": [],
   "source": [
    "#우리가 해결하려는 문제는 수업직후와 수업직전의 엘리베이터 혼잡 문제이다.\n",
    "#수업직후엔 10층에서 내려오려는 사람이 많고 직전엔 올라가려는 사람이 많다.\n",
    "#따라서 직후엔 내려오려는 사람이 다 못 타고 남을 것이고, 직전엔 올라가려는 사람이 남을것이다.\n",
    "#그럼 결국 1-9층 엘리베이터가 두 번을 왕복해야하므로 현재 알고리즘보다 시간이 더 오래 걸린다."
   ]
  },
  {
   "cell_type": "code",
   "execution_count": null,
   "metadata": {},
   "outputs": [],
   "source": []
  }
 ],
 "metadata": {
  "kernelspec": {
   "display_name": "Python 3",
   "language": "python",
   "name": "python3"
  },
  "language_info": {
   "codemirror_mode": {
    "name": "ipython",
    "version": 3
   },
   "file_extension": ".py",
   "mimetype": "text/x-python",
   "name": "python",
   "nbconvert_exporter": "python",
   "pygments_lexer": "ipython3",
   "version": "3.7.3"
  }
 },
 "nbformat": 4,
 "nbformat_minor": 2
}
