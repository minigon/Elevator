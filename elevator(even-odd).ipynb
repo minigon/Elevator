{
 "cells": [
  {
   "cell_type": "code",
   "execution_count": 31,
   "metadata": {},
   "outputs": [],
   "source": [
    "from pylab import *\n",
    "from numpy import *\n",
    "D=loadtxt('elv.txt')\n",
    "#짝수층 엘리베이터\n",
    "eupin=zeros((6,1))\n",
    "eupout=zeros((6,1))\n",
    "edwin=zeros((6,1))\n",
    "edwout=zeros((6,1))\n",
    "#홀수층 엘리베이터\n",
    "oupin=zeros((6,1))\n",
    "oupout=zeros((6,1))\n",
    "odwin=zeros((6,1))\n",
    "odwout=zeros((6,1))\n",
    "for i in range(5):\n",
    "    oupin[i]=D[i*2,1]\n",
    "    oupout[i]=D[i*2,2]\n",
    "    odwin[i]=D[i*2,3]\n",
    "    odwout[i]=D[i*2,4]\n",
    "    eupin[i+1]=D[(i*2+1),1]\n",
    "    eupout[i+1]=D[(i*2+1),2]\n",
    "    edwin[i+1]=D[(i*2+1),3]\n",
    "    edwout[i+1]=D[(i*2+1),4]\n",
    "    #올라갈때 1층에서 내리는 사람과 내려올때 1층에서 타는 사람을 뺌\n",
    "    eupout[0]=0\n",
    "    edwin[0]=0\n",
    "    oupout[0]=0\n",
    "    odwin[0]=0"
   ]
  },
  {
   "cell_type": "code",
   "execution_count": 32,
   "metadata": {},
   "outputs": [],
   "source": [
    "#10층으로 가려는 사람이 각 엘리베이터에 절반씩 탄다고 가정\n",
    "oupout[5]=eupout[5]//2\n",
    "eupout[5]=eupout[5]-oupout[5]\n",
    "#1층에서 타는 사람 계산(2~10층에서 내리는사람 - 2~9층에서 타는 사람)\n",
    "eupin[0]=sum(eupout[1:6])-sum(eupin[1:5])\n",
    "oupin[0]=sum(oupout[1:6])-sum(oupin[1:5])\n",
    "k=0\n",
    "#10층에서 타려는 사람은 먼저 도착하는 걸 타게 하기 위해 나중에 정하려고 우선 10층에서 타는 사람을 0으로 만듬\n",
    "upin5=0\n",
    "upin5=int(eupin[5])\n",
    "eupin[5]=0\n",
    "edwout[0]=edwout[0]-edwin[5]\n",
    "edwin[5]=0\n",
    "#1층에서 내리는 사람 수 계산\n",
    "edwout[0]=sum(edwin[1:5])-sum(edwout[1:4])\n",
    "odwout[0]=sum(odwin[1:5])-sum(odwout[1:4])"
   ]
  },
  {
   "cell_type": "code",
   "execution_count": 33,
   "metadata": {},
   "outputs": [],
   "source": [
    "eupinst=zeros((6,1))\n",
    "eupoutst=zeros((6,1))\n",
    "edwinst=zeros((6,1))\n",
    "edwoutst=zeros((6,1))\n",
    "oupinst=zeros((6,1))\n",
    "oupoutst=zeros((6,1))\n",
    "odwinst=zeros((6,1))\n",
    "odwoutst=zeros((6,1))\n",
    "for i in range(6):\n",
    "    #올라가는 짝수엘베의 1,0\n",
    "    if eupin[i]>=1:\n",
    "        eupinst[i]=1\n",
    "    if eupout[i]>=1:\n",
    "        eupoutst[i]=1\n",
    "    #올라가는 홀수엘베의 1,0\n",
    "    if oupin[i]>=1:\n",
    "        oupinst[i]=1\n",
    "    if oupout[i]>=1:\n",
    "        oupoutst[i]=1"
   ]
  },
  {
   "cell_type": "code",
   "execution_count": 34,
   "metadata": {},
   "outputs": [],
   "source": [
    "eupst=zeros((6,1))\n",
    "edwst=zeros((6,1))\n",
    "oupst=zeros((6,1))\n",
    "odwst=zeros((6,1))\n",
    "for i in range(6):\n",
    "    #올라갈때 타거나 내리려는 사람이 있고, 엘베 안이 19명 이하라면 오픈\n",
    "    if eupinst[i]+eupoutst[i]>0 and sum(eupin[:(i+1)])-sum(eupout[:(i+1)])<=19:\n",
    "        eupst[i]=1\n",
    "    if oupinst[i]+oupoutst[i]>0 and sum(oupin[:(i+1)])-sum(oupout[:(i+1)])<=19:\n",
    "        oupst[i]=1"
   ]
  },
  {
   "cell_type": "code",
   "execution_count": 35,
   "metadata": {},
   "outputs": [],
   "source": [
    "#10층에 더 빨리 도착하는 게 10층에서 타려는 사람들을 태운다.\n",
    "if sum(eupst[:5])>sum(oupst[:5]):\n",
    "    odwin[5]=upin5\n",
    "    odwout[0]=odwout[0]+odwin[5]\n",
    "else:\n",
    "    edwin[5]=upin5\n",
    "    edwout[0]=edwout[0]+edwin[5]"
   ]
  },
  {
   "cell_type": "code",
   "execution_count": 36,
   "metadata": {},
   "outputs": [],
   "source": [
    "for i in range(6):\n",
    "    #내려가는 짝수엘베의 1,0\n",
    "    if edwin[i]>=1:\n",
    "        edwinst[i]=1\n",
    "    if edwout[i]>=1:\n",
    "        edwoutst[i]=1\n",
    "    #내려가는 홀수엘베의 1,0\n",
    "    if odwin[i]>=1:\n",
    "        odwinst[i]=1\n",
    "    if odwout[i]>=1:\n",
    "        odwoutst[i]=1"
   ]
  },
  {
   "cell_type": "code",
   "execution_count": 37,
   "metadata": {},
   "outputs": [],
   "source": [
    "for i in range(6):\n",
    "    #내려갈때 타거나 내리려는 사람이 있고, 엘베 안이 19명 이하라면 오픈\n",
    "    if edwinst[i]+edwoutst[i]>0 and sum(edwin[(i+1):])-sum(edwout[(i+1):])<=19:\n",
    "        edwst[i]=1\n",
    "    if odwinst[i]+odwoutst[i]>0 and sum(odwin[(i+1):])-sum(odwout[(i+1):])<=19:\n",
    "        odwst[i]=1"
   ]
  },
  {
   "cell_type": "code",
   "execution_count": 38,
   "metadata": {},
   "outputs": [],
   "source": [
    "k=0\n",
    "l=0\n",
    "m=0\n",
    "n=0\n",
    "#엘베 정원이 초과라서 못 탄 사람들\n",
    "for i in range(6):\n",
    "    k=k+eupin[i]-eupout[i]\n",
    "    l=l+edwin[5-i]-edwout[5-i]\n",
    "    eupin[i]=0\n",
    "    edwin[5-i]=0\n",
    "    if k>19:\n",
    "        while k>19:\n",
    "            k=k-1\n",
    "            eupin[i]=eupin[i]+1\n",
    "    if l>19:\n",
    "        while l>19:\n",
    "            l=l-1\n",
    "            edwin[5-i]=edwin[5-i]+1\n",
    "    m=m+oupin[i]-oupout[i]\n",
    "    n=n+odwin[5-i]-odwout[5-i]\n",
    "    oupin[i]=0\n",
    "    odwin[5-i]=0\n",
    "    if m>19:\n",
    "        while m>19:\n",
    "            m=m-1\n",
    "            oupin[i]=oupin[i]+1\n",
    "    if n>19:\n",
    "        while n>19:\n",
    "            n=n-1\n",
    "            odwin[5-i]=odwin[5-i]+1\n",
    "eupout=zeros((6,1))\n",
    "edwout=zeros((6,1))\n",
    "oupout=zeros((6,1))\n",
    "odwout=zeros((6,1))"
   ]
  },
  {
   "cell_type": "code",
   "execution_count": 39,
   "metadata": {},
   "outputs": [
    {
     "name": "stdout",
     "output_type": "stream",
     "text": [
      "[[0. 0. 0. 0. 0. 0.]]\n",
      "[[0. 0. 0. 0. 0. 0.]]\n",
      "[[0. 0. 0. 0. 0. 0.]]\n",
      "[[0. 0. 0. 0. 0. 0.]]\n"
     ]
    }
   ],
   "source": [
    "#못 탄 사람들\n",
    "print(transpose(eupin))\n",
    "print(transpose(edwin))\n",
    "print(transpose(oupin))\n",
    "print(transpose(odwin))"
   ]
  },
  {
   "cell_type": "code",
   "execution_count": 40,
   "metadata": {},
   "outputs": [],
   "source": [
    "#각 층 사이에서 걸리는 시간\n",
    "#멈추면 그 전전층에서 현재 층까지 10초, 안 멈추면 그 전전층에서 현재층까지 4초\n",
    "eupf=[]\n",
    "edwf=[]\n",
    "oupf=[]\n",
    "odwf=[]\n",
    "for i in range(6):\n",
    "    if eupst[i]==1:\n",
    "        eupf.append(i+1)\n",
    "    if edwst[i]==1:\n",
    "        edwf.append(i+1)\n",
    "    if oupst[i]==1:\n",
    "        oupf.append(i+1)\n",
    "    if odwst[i]==1:\n",
    "        odwf.append(i+1)\n",
    "eupl=len(eupf)\n",
    "edwl=len(edwf)\n",
    "eupt=0\n",
    "edwt=0\n",
    "oupl=len(oupf)\n",
    "odwl=len(odwf)\n",
    "oupt=0\n",
    "odwt=0\n",
    "#open인층에서 다음 open인 층까지의 시간 계산\n",
    "for i in range(eupl-1):\n",
    "    eupt=eupt+(eupf[i+1]-eupf[i]-1)*4+10\n",
    "for i in range(edwl-1):\n",
    "    edwt=edwt+(edwf[i+1]-edwf[i]-1)*4+10\n",
    "for i in range(oupl-1):\n",
    "    oupt=oupt+(oupf[i+1]-oupf[i]-1)*4+10\n",
    "for i in range(odwl-1):\n",
    "    odwt=odwt+(odwf[i+1]-odwf[i]-1)*4+10"
   ]
  },
  {
   "cell_type": "code",
   "execution_count": 41,
   "metadata": {},
   "outputs": [
    {
     "name": "stdout",
     "output_type": "stream",
     "text": [
      "138 186\n"
     ]
    }
   ],
   "source": [
    "edwst[5]=0\n",
    "odwst[5]=0\n",
    "eupop=0\n",
    "edwop=0\n",
    "oupop=0\n",
    "odwop=0\n",
    "#각 층에서 오픈이면 12초씩 추가\n",
    "for i in range(6):\n",
    "    if eupst[i]==1:\n",
    "        eupop=eupop+12\n",
    "    if edwst[i]==1:\n",
    "        edwop=edwop+12\n",
    "    if oupst[i]==1:\n",
    "        oupop=oupop+12\n",
    "    if odwst[i]==1:\n",
    "        odwop=odwop+12\n",
    "etime=eupop+edwop+eupt+edwt\n",
    "otime=oupop+odwop+oupt+odwt\n",
    "print(etime,otime)"
   ]
  },
  {
   "cell_type": "code",
   "execution_count": 42,
   "metadata": {},
   "outputs": [],
   "source": [
    "#1층에서 못 탄 사람은 더 빨리 오는 걸 타고 10층으로 간다고 가정\n",
    "if eupin[0]+oupin[0]>0 and etime<otime:\n",
    "        eupout[5]=eupout[5]+eupin[0]+oupin[0]\n",
    "        eupin[0]=eupin[0]+oupin[0]\n",
    "        oupin[0]=0\n",
    "if eupin[0]+oupin[0]>0 and otime<etime:\n",
    "        oupout[5]=oupout[5]+eupin[0]+oupin[0]\n",
    "        oupin[0]=eupin[0]+oupin[0]\n",
    "        eupin[0]=0\n",
    "#10층에서 못 탄 사람은 더 빨리 오는 걸 타고 1층으로 간다고 가정\n",
    "if edwin[5]+odwin[5]>0 and etime<otime:\n",
    "        edwout[0]=edwout[0]+edwin[5]+odwin[5]\n",
    "        edwin[5]=edwin[5]+odwin[5]\n",
    "        odwin[5]=0\n",
    "if edwin[5]+odwin[5]>0 and otime<etime:\n",
    "        odwout[0]=odwout[0]+edwin[5]+odwin[5]\n",
    "        odwin[5]=edwin[5]+odwin[5]\n",
    "        edwin[5]=0\n",
    "#2~9층에서 못 탄 사람은 층수에 맞는 엘리베이터를 타고 1 or 10층으로 간다고 가정\n",
    "for i in range(1,5):\n",
    "    if eupin[i]>0:\n",
    "        eupout[5]=eupout[5]+eupin[i]\n",
    "    if edwin[i]>0:\n",
    "        edwout[0]=edwout[0]+edwin[i]\n",
    "    if oupin[i]>0:\n",
    "        oupout[5]=oupout[5]+oupin[i]\n",
    "    if odwin[i]>0:\n",
    "        odwout[0]=odwout[0]+odwin[i]"
   ]
  },
  {
   "cell_type": "code",
   "execution_count": 43,
   "metadata": {},
   "outputs": [],
   "source": [
    "if sum(eupin[0:]+edwin[0:]+oupin[0:]+odwin[0:])>0:\n",
    "    eupinst=zeros((6,1))\n",
    "    eupoutst=zeros((6,1))\n",
    "    edwinst=zeros((6,1))\n",
    "    edwoutst=zeros((6,1))\n",
    "    oupinst=zeros((6,1))\n",
    "    oupoutst=zeros((6,1))\n",
    "    odwinst=zeros((6,1))\n",
    "    odwoutst=zeros((6,1))\n",
    "    for i in range(6):\n",
    "        #올라가는 짝수엘베의 1,0\n",
    "        if eupin[i]>=1:\n",
    "            eupinst[i]=1\n",
    "        if eupout[i]>=1:\n",
    "            eupoutst[i]=1\n",
    "        #올라가는 홀수엘베의 1,0\n",
    "        if oupin[i]>=1:\n",
    "            oupinst[i]=1\n",
    "        if oupout[i]>=1:\n",
    "            oupoutst[i]=1\n",
    "    eupst=zeros((6,1))\n",
    "    edwst=zeros((6,1))\n",
    "    oupst=zeros((6,1))\n",
    "    odwst=zeros((6,1))\n",
    "    for i in range(6):\n",
    "        #올라갈때 타거나 내리려는 사람이 있고, 엘베 안이 19명 이하라면 오픈\n",
    "        if eupinst[i]+eupoutst[i]>0 and sum(eupin[:(i+1)])-sum(eupout[:(i+1)])<=19:\n",
    "            eupst[i]=1\n",
    "        if oupinst[i]+oupoutst[i]>0 and sum(oupin[:(i+1)])-sum(oupout[:(i+1)])<=19:\n",
    "            oupst[i]=1\n",
    "    for i in range(6):\n",
    "        #내려가는 짝수엘베의 1,0\n",
    "        if edwin[i]>=1:\n",
    "            edwinst[i]=1\n",
    "        if edwout[i]>=1:\n",
    "            edwoutst[i]=1\n",
    "        #내려가는 홀수엘베의 1,0\n",
    "        if odwin[i]>=1:\n",
    "            odwinst[i]=1\n",
    "        if odwout[i]>=1:\n",
    "            odwoutst[i]=1\n",
    "    for i in range(6):\n",
    "        #내려갈때 타거나 내리려는 사람이 있고, 엘베 안이 19명 이하라면 오픈\n",
    "        if edwinst[i]+edwoutst[i]>0 and sum(edwin[(i+1):])-sum(edwout[(i+1):])<=19:\n",
    "            edwst[i]=1\n",
    "        if odwinst[i]+odwoutst[i]>0 and sum(odwin[(i+1):])-sum(odwout[(i+1):])<=19:\n",
    "            odwst[i]=1\n",
    "    eupf=[]\n",
    "    edwf=[]\n",
    "    oupf=[]\n",
    "    odwf=[]\n",
    "    for i in range(6):\n",
    "        if eupst[i]==1:\n",
    "            eupf.append(i+1)\n",
    "        if edwst[i]==1:\n",
    "            edwf.append(i+1)\n",
    "        if oupst[i]==1:\n",
    "            oupf.append(i+1)\n",
    "        if odwst[i]==1:\n",
    "            odwf.append(i+1)\n",
    "    eupl=len(eupf)\n",
    "    edwl=len(edwf)\n",
    "    eupt=0\n",
    "    edwt=0\n",
    "    oupl=len(oupf)\n",
    "    odwl=len(odwf)\n",
    "    oupt=0\n",
    "    odwt=0\n",
    "    #open인층에서 다음 open인 층까지의 시간 계산\n",
    "    for i in range(eupl-1):\n",
    "        eupt=eupt+(eupf[i+1]-eupf[i]-1)*4+10\n",
    "    for i in range(edwl-1):\n",
    "        edwt=edwt+(edwf[i+1]-edwf[i]-1)*4+10\n",
    "    for i in range(oupl-1):\n",
    "        oupt=oupt+(oupf[i+1]-oupf[i]-1)*4+10\n",
    "    for i in range(odwl-1):\n",
    "        odwt=odwt+(odwf[i+1]-odwf[i]-1)*4+10\n",
    "    edwst[5]=0\n",
    "    odwst[5]=0\n",
    "    eupop=0\n",
    "    edwop=0\n",
    "    oupop=0\n",
    "    odwop=0\n",
    "    #각 층에서 오픈이면 12초씩 추가\n",
    "    for i in range(6):\n",
    "        if eupst[i]==1:\n",
    "            eupop=eupop+12\n",
    "        if edwst[i]==1:\n",
    "            edwop=edwop+12\n",
    "        if oupst[i]==1:\n",
    "            oupop=oupop+12\n",
    "        if odwst[i]==1:\n",
    "            odwop=odwop+12\n",
    "    etime1=eupop+edwop+eupt+edwt\n",
    "    otime1=oupop+odwop+oupt+odwt"
   ]
  },
  {
   "cell_type": "code",
   "execution_count": 44,
   "metadata": {},
   "outputs": [
    {
     "ename": "NameError",
     "evalue": "name 'etime1' is not defined",
     "output_type": "error",
     "traceback": [
      "\u001b[1;31m---------------------------------------------------------------------------\u001b[0m",
      "\u001b[1;31mNameError\u001b[0m                                 Traceback (most recent call last)",
      "\u001b[1;32m<ipython-input-44-1a3fcd24959f>\u001b[0m in \u001b[0;36m<module>\u001b[1;34m\u001b[0m\n\u001b[1;32m----> 1\u001b[1;33m \u001b[0mtime\u001b[0m\u001b[1;33m=\u001b[0m\u001b[0mmax\u001b[0m\u001b[1;33m(\u001b[0m\u001b[0metime\u001b[0m\u001b[1;33m+\u001b[0m\u001b[0metime1\u001b[0m\u001b[1;33m,\u001b[0m\u001b[0motime\u001b[0m\u001b[1;33m+\u001b[0m\u001b[0motime1\u001b[0m\u001b[1;33m)\u001b[0m\u001b[1;33m\u001b[0m\u001b[1;33m\u001b[0m\u001b[0m\n\u001b[0m\u001b[0;32m      2\u001b[0m \u001b[0mprint\u001b[0m\u001b[1;33m(\u001b[0m\u001b[0mtime\u001b[0m\u001b[1;33m)\u001b[0m\u001b[1;33m\u001b[0m\u001b[1;33m\u001b[0m\u001b[0m\n",
      "\u001b[1;31mNameError\u001b[0m: name 'etime1' is not defined"
     ]
    }
   ],
   "source": [
    "time=max(etime+etime1,otime+otime1)\n",
    "print(time)"
   ]
  },
  {
   "cell_type": "code",
   "execution_count": 45,
   "metadata": {},
   "outputs": [
    {
     "name": "stdout",
     "output_type": "stream",
     "text": [
      "186\n"
     ]
    }
   ],
   "source": [
    "time=max(etime,otime)\n",
    "print(time)"
   ]
  },
  {
   "cell_type": "code",
   "execution_count": null,
   "metadata": {},
   "outputs": [],
   "source": [
    "sum(eupin[0:]+edwin[0:]+oupin[0:]+odwin[0:])"
   ]
  },
  {
   "cell_type": "code",
   "execution_count": null,
   "metadata": {},
   "outputs": [],
   "source": []
  }
 ],
 "metadata": {
  "kernelspec": {
   "display_name": "Python 3",
   "language": "python",
   "name": "python3"
  },
  "language_info": {
   "codemirror_mode": {
    "name": "ipython",
    "version": 3
   },
   "file_extension": ".py",
   "mimetype": "text/x-python",
   "name": "python",
   "nbconvert_exporter": "python",
   "pygments_lexer": "ipython3",
   "version": "3.7.3"
  }
 },
 "nbformat": 4,
 "nbformat_minor": 1
}
